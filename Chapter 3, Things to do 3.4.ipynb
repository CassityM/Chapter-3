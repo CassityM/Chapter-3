{
 "cells": [
  {
   "cell_type": "markdown",
   "id": "3a0df297",
   "metadata": {},
   "source": [
    "3.4 Calculate seconds per day again, but this time save the result in a variable called seconds_per_day."
   ]
  },
  {
   "cell_type": "code",
   "execution_count": 1,
   "id": "c3954092",
   "metadata": {},
   "outputs": [
    {
     "name": "stdout",
     "output_type": "stream",
     "text": [
      "There are 86400 seconds per in a day.\n"
     ]
    }
   ],
   "source": [
    "second_per_hour = 60 * 60\n",
    "day = 24\n",
    "seconds_per_day = second_per_hour * day\n",
    "print(\"There are\", seconds_per_day,\"seconds per in a day.\")"
   ]
  },
  {
   "cell_type": "code",
   "execution_count": null,
   "id": "e2e77b46",
   "metadata": {},
   "outputs": [],
   "source": []
  }
 ],
 "metadata": {
  "kernelspec": {
   "display_name": "Python 3 (ipykernel)",
   "language": "python",
   "name": "python3"
  },
  "language_info": {
   "codemirror_mode": {
    "name": "ipython",
    "version": 3
   },
   "file_extension": ".py",
   "mimetype": "text/x-python",
   "name": "python",
   "nbconvert_exporter": "python",
   "pygments_lexer": "ipython3",
   "version": "3.9.12"
  }
 },
 "nbformat": 4,
 "nbformat_minor": 5
}

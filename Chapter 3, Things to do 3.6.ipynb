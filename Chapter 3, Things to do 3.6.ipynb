{
 "cells": [
  {
   "cell_type": "markdown",
   "id": "4745e385",
   "metadata": {},
   "source": [
    "3.6 Divide seconds_per_day by seconds_per_hour, using integer (//) division. Did this number agree with the floating-point value from the previous question, aside from the final .0?"
   ]
  },
  {
   "cell_type": "code",
   "execution_count": 1,
   "id": "c07b6a19",
   "metadata": {},
   "outputs": [
    {
     "name": "stdout",
     "output_type": "stream",
     "text": [
      "24\n"
     ]
    }
   ],
   "source": [
    "seconds_per_day = 60 * 60 *24\n",
    "seconds_per_hour = 60 * 60\n",
    "\n",
    "print (seconds_per_day // seconds_per_hour)"
   ]
  },
  {
   "cell_type": "markdown",
   "id": "10b96702",
   "metadata": {},
   "source": [
    "Yes, the numbers were identical to 3.5 exercise using the floating point (/) besides the (.0)."
   ]
  },
  {
   "cell_type": "code",
   "execution_count": null,
   "id": "c54d9314",
   "metadata": {},
   "outputs": [],
   "source": []
  }
 ],
 "metadata": {
  "kernelspec": {
   "display_name": "Python 3 (ipykernel)",
   "language": "python",
   "name": "python3"
  },
  "language_info": {
   "codemirror_mode": {
    "name": "ipython",
    "version": 3
   },
   "file_extension": ".py",
   "mimetype": "text/x-python",
   "name": "python",
   "nbconvert_exporter": "python",
   "pygments_lexer": "ipython3",
   "version": "3.9.12"
  }
 },
 "nbformat": 4,
 "nbformat_minor": 5
}
